{
 "cells": [
  {
   "cell_type": "code",
   "execution_count": 1,
   "id": "0b78c7f0-37b7-4bd3-b4d1-2532b6fc8c82",
   "metadata": {},
   "outputs": [],
   "source": [
    "import pandas as pd\n",
    "import numpy as np\n",
    "import seaborn as sns\n",
    "import matplotlib.pyplot as plt"
   ]
  },
  {
   "cell_type": "code",
   "execution_count": 2,
   "id": "49792736-9cb0-473a-b812-8c1d90f21512",
   "metadata": {},
   "outputs": [
    {
     "data": {
      "text/html": [
       "<div>\n",
       "<style scoped>\n",
       "    .dataframe tbody tr th:only-of-type {\n",
       "        vertical-align: middle;\n",
       "    }\n",
       "\n",
       "    .dataframe tbody tr th {\n",
       "        vertical-align: top;\n",
       "    }\n",
       "\n",
       "    .dataframe thead th {\n",
       "        text-align: right;\n",
       "    }\n",
       "</style>\n",
       "<table border=\"1\" class=\"dataframe\">\n",
       "  <thead>\n",
       "    <tr style=\"text-align: right;\">\n",
       "      <th></th>\n",
       "      <th>InvoiceNo</th>\n",
       "      <th>StockCode</th>\n",
       "      <th>Description</th>\n",
       "      <th>Quantity</th>\n",
       "      <th>InvoiceDate</th>\n",
       "      <th>UnitPrice</th>\n",
       "      <th>CustomerID</th>\n",
       "      <th>Country</th>\n",
       "    </tr>\n",
       "  </thead>\n",
       "  <tbody>\n",
       "    <tr>\n",
       "      <th>0</th>\n",
       "      <td>536365</td>\n",
       "      <td>85123A</td>\n",
       "      <td>WHITE HANGING HEART T-LIGHT HOLDER</td>\n",
       "      <td>6</td>\n",
       "      <td>12/1/2010 8:26</td>\n",
       "      <td>2.55</td>\n",
       "      <td>17850.0</td>\n",
       "      <td>United Kingdom</td>\n",
       "    </tr>\n",
       "    <tr>\n",
       "      <th>1</th>\n",
       "      <td>536365</td>\n",
       "      <td>71053</td>\n",
       "      <td>WHITE METAL LANTERN</td>\n",
       "      <td>6</td>\n",
       "      <td>12/1/2010 8:26</td>\n",
       "      <td>3.39</td>\n",
       "      <td>17850.0</td>\n",
       "      <td>United Kingdom</td>\n",
       "    </tr>\n",
       "    <tr>\n",
       "      <th>2</th>\n",
       "      <td>536365</td>\n",
       "      <td>84406B</td>\n",
       "      <td>CREAM CUPID HEARTS COAT HANGER</td>\n",
       "      <td>8</td>\n",
       "      <td>12/1/2010 8:26</td>\n",
       "      <td>2.75</td>\n",
       "      <td>17850.0</td>\n",
       "      <td>United Kingdom</td>\n",
       "    </tr>\n",
       "    <tr>\n",
       "      <th>3</th>\n",
       "      <td>536365</td>\n",
       "      <td>84029G</td>\n",
       "      <td>KNITTED UNION FLAG HOT WATER BOTTLE</td>\n",
       "      <td>6</td>\n",
       "      <td>12/1/2010 8:26</td>\n",
       "      <td>3.39</td>\n",
       "      <td>17850.0</td>\n",
       "      <td>United Kingdom</td>\n",
       "    </tr>\n",
       "    <tr>\n",
       "      <th>4</th>\n",
       "      <td>536365</td>\n",
       "      <td>84029E</td>\n",
       "      <td>RED WOOLLY HOTTIE WHITE HEART.</td>\n",
       "      <td>6</td>\n",
       "      <td>12/1/2010 8:26</td>\n",
       "      <td>3.39</td>\n",
       "      <td>17850.0</td>\n",
       "      <td>United Kingdom</td>\n",
       "    </tr>\n",
       "    <tr>\n",
       "      <th>...</th>\n",
       "      <td>...</td>\n",
       "      <td>...</td>\n",
       "      <td>...</td>\n",
       "      <td>...</td>\n",
       "      <td>...</td>\n",
       "      <td>...</td>\n",
       "      <td>...</td>\n",
       "      <td>...</td>\n",
       "    </tr>\n",
       "    <tr>\n",
       "      <th>541904</th>\n",
       "      <td>581587</td>\n",
       "      <td>22613</td>\n",
       "      <td>PACK OF 20 SPACEBOY NAPKINS</td>\n",
       "      <td>12</td>\n",
       "      <td>12/9/2011 12:50</td>\n",
       "      <td>0.85</td>\n",
       "      <td>12680.0</td>\n",
       "      <td>France</td>\n",
       "    </tr>\n",
       "    <tr>\n",
       "      <th>541905</th>\n",
       "      <td>581587</td>\n",
       "      <td>22899</td>\n",
       "      <td>CHILDREN'S APRON DOLLY GIRL</td>\n",
       "      <td>6</td>\n",
       "      <td>12/9/2011 12:50</td>\n",
       "      <td>2.10</td>\n",
       "      <td>12680.0</td>\n",
       "      <td>France</td>\n",
       "    </tr>\n",
       "    <tr>\n",
       "      <th>541906</th>\n",
       "      <td>581587</td>\n",
       "      <td>23254</td>\n",
       "      <td>CHILDRENS CUTLERY DOLLY GIRL</td>\n",
       "      <td>4</td>\n",
       "      <td>12/9/2011 12:50</td>\n",
       "      <td>4.15</td>\n",
       "      <td>12680.0</td>\n",
       "      <td>France</td>\n",
       "    </tr>\n",
       "    <tr>\n",
       "      <th>541907</th>\n",
       "      <td>581587</td>\n",
       "      <td>23255</td>\n",
       "      <td>CHILDRENS CUTLERY CIRCUS PARADE</td>\n",
       "      <td>4</td>\n",
       "      <td>12/9/2011 12:50</td>\n",
       "      <td>4.15</td>\n",
       "      <td>12680.0</td>\n",
       "      <td>France</td>\n",
       "    </tr>\n",
       "    <tr>\n",
       "      <th>541908</th>\n",
       "      <td>581587</td>\n",
       "      <td>22138</td>\n",
       "      <td>BAKING SET 9 PIECE RETROSPOT</td>\n",
       "      <td>3</td>\n",
       "      <td>12/9/2011 12:50</td>\n",
       "      <td>4.95</td>\n",
       "      <td>12680.0</td>\n",
       "      <td>France</td>\n",
       "    </tr>\n",
       "  </tbody>\n",
       "</table>\n",
       "<p>541909 rows × 8 columns</p>\n",
       "</div>"
      ],
      "text/plain": [
       "       InvoiceNo StockCode                          Description  Quantity  \\\n",
       "0         536365    85123A   WHITE HANGING HEART T-LIGHT HOLDER         6   \n",
       "1         536365     71053                  WHITE METAL LANTERN         6   \n",
       "2         536365    84406B       CREAM CUPID HEARTS COAT HANGER         8   \n",
       "3         536365    84029G  KNITTED UNION FLAG HOT WATER BOTTLE         6   \n",
       "4         536365    84029E       RED WOOLLY HOTTIE WHITE HEART.         6   \n",
       "...          ...       ...                                  ...       ...   \n",
       "541904    581587     22613          PACK OF 20 SPACEBOY NAPKINS        12   \n",
       "541905    581587     22899         CHILDREN'S APRON DOLLY GIRL          6   \n",
       "541906    581587     23254        CHILDRENS CUTLERY DOLLY GIRL          4   \n",
       "541907    581587     23255      CHILDRENS CUTLERY CIRCUS PARADE         4   \n",
       "541908    581587     22138        BAKING SET 9 PIECE RETROSPOT          3   \n",
       "\n",
       "            InvoiceDate  UnitPrice  CustomerID         Country  \n",
       "0        12/1/2010 8:26       2.55     17850.0  United Kingdom  \n",
       "1        12/1/2010 8:26       3.39     17850.0  United Kingdom  \n",
       "2        12/1/2010 8:26       2.75     17850.0  United Kingdom  \n",
       "3        12/1/2010 8:26       3.39     17850.0  United Kingdom  \n",
       "4        12/1/2010 8:26       3.39     17850.0  United Kingdom  \n",
       "...                 ...        ...         ...             ...  \n",
       "541904  12/9/2011 12:50       0.85     12680.0          France  \n",
       "541905  12/9/2011 12:50       2.10     12680.0          France  \n",
       "541906  12/9/2011 12:50       4.15     12680.0          France  \n",
       "541907  12/9/2011 12:50       4.15     12680.0          France  \n",
       "541908  12/9/2011 12:50       4.95     12680.0          France  \n",
       "\n",
       "[541909 rows x 8 columns]"
      ]
     },
     "execution_count": 2,
     "metadata": {},
     "output_type": "execute_result"
    }
   ],
   "source": [
    "Dataset = pd.read_csv(\"ecommerce.csv\", encoding = \"latin1\")\n",
    "\n",
    "Dataset"
   ]
  },
  {
   "cell_type": "code",
   "execution_count": 3,
   "id": "f950af22-f8fd-4a69-8e79-3562a19550d8",
   "metadata": {},
   "outputs": [],
   "source": [
    "Dataset[\"Total_Price\"] = Dataset[\"Quantity\"] * Dataset[\"UnitPrice\"]"
   ]
  },
  {
   "cell_type": "code",
   "execution_count": 4,
   "id": "b1306ccc-59e6-42e8-b734-ce77d58f2000",
   "metadata": {},
   "outputs": [],
   "source": [
    "Supervised = pd.DataFrame(Dataset)\n",
    "Supervised[\"Total_Price\"] = Dataset[\"Total_Price\"]"
   ]
  },
  {
   "cell_type": "code",
   "execution_count": 5,
   "id": "0a6a2abe-a0d1-4552-9ea3-3b3b8d057867",
   "metadata": {},
   "outputs": [],
   "source": [
    "# Need to create output (target Variable) \n",
    "\n",
    "threshold = Supervised[\"Total_Price\"].median()\n",
    "\n",
    "Supervised[\"Best_Selling\"] = Supervised[\"Total_Price\"].apply(lambda x: 1 if x >= threshold else 0)"
   ]
  },
  {
   "cell_type": "code",
   "execution_count": 6,
   "id": "5a26d60b-2b67-4315-9582-1c4fb96f3e7e",
   "metadata": {},
   "outputs": [
    {
     "data": {
      "text/html": [
       "<div>\n",
       "<style scoped>\n",
       "    .dataframe tbody tr th:only-of-type {\n",
       "        vertical-align: middle;\n",
       "    }\n",
       "\n",
       "    .dataframe tbody tr th {\n",
       "        vertical-align: top;\n",
       "    }\n",
       "\n",
       "    .dataframe thead th {\n",
       "        text-align: right;\n",
       "    }\n",
       "</style>\n",
       "<table border=\"1\" class=\"dataframe\">\n",
       "  <thead>\n",
       "    <tr style=\"text-align: right;\">\n",
       "      <th></th>\n",
       "      <th>InvoiceNo</th>\n",
       "      <th>StockCode</th>\n",
       "      <th>Description</th>\n",
       "      <th>Quantity</th>\n",
       "      <th>InvoiceDate</th>\n",
       "      <th>UnitPrice</th>\n",
       "      <th>CustomerID</th>\n",
       "      <th>Country</th>\n",
       "      <th>Total_Price</th>\n",
       "      <th>Best_Selling</th>\n",
       "    </tr>\n",
       "  </thead>\n",
       "  <tbody>\n",
       "    <tr>\n",
       "      <th>0</th>\n",
       "      <td>536365</td>\n",
       "      <td>85123A</td>\n",
       "      <td>WHITE HANGING HEART T-LIGHT HOLDER</td>\n",
       "      <td>6</td>\n",
       "      <td>12/1/2010 8:26</td>\n",
       "      <td>2.55</td>\n",
       "      <td>17850.0</td>\n",
       "      <td>United Kingdom</td>\n",
       "      <td>15.30</td>\n",
       "      <td>1</td>\n",
       "    </tr>\n",
       "    <tr>\n",
       "      <th>1</th>\n",
       "      <td>536365</td>\n",
       "      <td>71053</td>\n",
       "      <td>WHITE METAL LANTERN</td>\n",
       "      <td>6</td>\n",
       "      <td>12/1/2010 8:26</td>\n",
       "      <td>3.39</td>\n",
       "      <td>17850.0</td>\n",
       "      <td>United Kingdom</td>\n",
       "      <td>20.34</td>\n",
       "      <td>1</td>\n",
       "    </tr>\n",
       "    <tr>\n",
       "      <th>2</th>\n",
       "      <td>536365</td>\n",
       "      <td>84406B</td>\n",
       "      <td>CREAM CUPID HEARTS COAT HANGER</td>\n",
       "      <td>8</td>\n",
       "      <td>12/1/2010 8:26</td>\n",
       "      <td>2.75</td>\n",
       "      <td>17850.0</td>\n",
       "      <td>United Kingdom</td>\n",
       "      <td>22.00</td>\n",
       "      <td>1</td>\n",
       "    </tr>\n",
       "    <tr>\n",
       "      <th>3</th>\n",
       "      <td>536365</td>\n",
       "      <td>84029G</td>\n",
       "      <td>KNITTED UNION FLAG HOT WATER BOTTLE</td>\n",
       "      <td>6</td>\n",
       "      <td>12/1/2010 8:26</td>\n",
       "      <td>3.39</td>\n",
       "      <td>17850.0</td>\n",
       "      <td>United Kingdom</td>\n",
       "      <td>20.34</td>\n",
       "      <td>1</td>\n",
       "    </tr>\n",
       "    <tr>\n",
       "      <th>4</th>\n",
       "      <td>536365</td>\n",
       "      <td>84029E</td>\n",
       "      <td>RED WOOLLY HOTTIE WHITE HEART.</td>\n",
       "      <td>6</td>\n",
       "      <td>12/1/2010 8:26</td>\n",
       "      <td>3.39</td>\n",
       "      <td>17850.0</td>\n",
       "      <td>United Kingdom</td>\n",
       "      <td>20.34</td>\n",
       "      <td>1</td>\n",
       "    </tr>\n",
       "    <tr>\n",
       "      <th>...</th>\n",
       "      <td>...</td>\n",
       "      <td>...</td>\n",
       "      <td>...</td>\n",
       "      <td>...</td>\n",
       "      <td>...</td>\n",
       "      <td>...</td>\n",
       "      <td>...</td>\n",
       "      <td>...</td>\n",
       "      <td>...</td>\n",
       "      <td>...</td>\n",
       "    </tr>\n",
       "    <tr>\n",
       "      <th>541904</th>\n",
       "      <td>581587</td>\n",
       "      <td>22613</td>\n",
       "      <td>PACK OF 20 SPACEBOY NAPKINS</td>\n",
       "      <td>12</td>\n",
       "      <td>12/9/2011 12:50</td>\n",
       "      <td>0.85</td>\n",
       "      <td>12680.0</td>\n",
       "      <td>France</td>\n",
       "      <td>10.20</td>\n",
       "      <td>1</td>\n",
       "    </tr>\n",
       "    <tr>\n",
       "      <th>541905</th>\n",
       "      <td>581587</td>\n",
       "      <td>22899</td>\n",
       "      <td>CHILDREN'S APRON DOLLY GIRL</td>\n",
       "      <td>6</td>\n",
       "      <td>12/9/2011 12:50</td>\n",
       "      <td>2.10</td>\n",
       "      <td>12680.0</td>\n",
       "      <td>France</td>\n",
       "      <td>12.60</td>\n",
       "      <td>1</td>\n",
       "    </tr>\n",
       "    <tr>\n",
       "      <th>541906</th>\n",
       "      <td>581587</td>\n",
       "      <td>23254</td>\n",
       "      <td>CHILDRENS CUTLERY DOLLY GIRL</td>\n",
       "      <td>4</td>\n",
       "      <td>12/9/2011 12:50</td>\n",
       "      <td>4.15</td>\n",
       "      <td>12680.0</td>\n",
       "      <td>France</td>\n",
       "      <td>16.60</td>\n",
       "      <td>1</td>\n",
       "    </tr>\n",
       "    <tr>\n",
       "      <th>541907</th>\n",
       "      <td>581587</td>\n",
       "      <td>23255</td>\n",
       "      <td>CHILDRENS CUTLERY CIRCUS PARADE</td>\n",
       "      <td>4</td>\n",
       "      <td>12/9/2011 12:50</td>\n",
       "      <td>4.15</td>\n",
       "      <td>12680.0</td>\n",
       "      <td>France</td>\n",
       "      <td>16.60</td>\n",
       "      <td>1</td>\n",
       "    </tr>\n",
       "    <tr>\n",
       "      <th>541908</th>\n",
       "      <td>581587</td>\n",
       "      <td>22138</td>\n",
       "      <td>BAKING SET 9 PIECE RETROSPOT</td>\n",
       "      <td>3</td>\n",
       "      <td>12/9/2011 12:50</td>\n",
       "      <td>4.95</td>\n",
       "      <td>12680.0</td>\n",
       "      <td>France</td>\n",
       "      <td>14.85</td>\n",
       "      <td>1</td>\n",
       "    </tr>\n",
       "  </tbody>\n",
       "</table>\n",
       "<p>541909 rows × 10 columns</p>\n",
       "</div>"
      ],
      "text/plain": [
       "       InvoiceNo StockCode                          Description  Quantity  \\\n",
       "0         536365    85123A   WHITE HANGING HEART T-LIGHT HOLDER         6   \n",
       "1         536365     71053                  WHITE METAL LANTERN         6   \n",
       "2         536365    84406B       CREAM CUPID HEARTS COAT HANGER         8   \n",
       "3         536365    84029G  KNITTED UNION FLAG HOT WATER BOTTLE         6   \n",
       "4         536365    84029E       RED WOOLLY HOTTIE WHITE HEART.         6   \n",
       "...          ...       ...                                  ...       ...   \n",
       "541904    581587     22613          PACK OF 20 SPACEBOY NAPKINS        12   \n",
       "541905    581587     22899         CHILDREN'S APRON DOLLY GIRL          6   \n",
       "541906    581587     23254        CHILDRENS CUTLERY DOLLY GIRL          4   \n",
       "541907    581587     23255      CHILDRENS CUTLERY CIRCUS PARADE         4   \n",
       "541908    581587     22138        BAKING SET 9 PIECE RETROSPOT          3   \n",
       "\n",
       "            InvoiceDate  UnitPrice  CustomerID         Country  Total_Price  \\\n",
       "0        12/1/2010 8:26       2.55     17850.0  United Kingdom        15.30   \n",
       "1        12/1/2010 8:26       3.39     17850.0  United Kingdom        20.34   \n",
       "2        12/1/2010 8:26       2.75     17850.0  United Kingdom        22.00   \n",
       "3        12/1/2010 8:26       3.39     17850.0  United Kingdom        20.34   \n",
       "4        12/1/2010 8:26       3.39     17850.0  United Kingdom        20.34   \n",
       "...                 ...        ...         ...             ...          ...   \n",
       "541904  12/9/2011 12:50       0.85     12680.0          France        10.20   \n",
       "541905  12/9/2011 12:50       2.10     12680.0          France        12.60   \n",
       "541906  12/9/2011 12:50       4.15     12680.0          France        16.60   \n",
       "541907  12/9/2011 12:50       4.15     12680.0          France        16.60   \n",
       "541908  12/9/2011 12:50       4.95     12680.0          France        14.85   \n",
       "\n",
       "        Best_Selling  \n",
       "0                  1  \n",
       "1                  1  \n",
       "2                  1  \n",
       "3                  1  \n",
       "4                  1  \n",
       "...              ...  \n",
       "541904             1  \n",
       "541905             1  \n",
       "541906             1  \n",
       "541907             1  \n",
       "541908             1  \n",
       "\n",
       "[541909 rows x 10 columns]"
      ]
     },
     "execution_count": 6,
     "metadata": {},
     "output_type": "execute_result"
    }
   ],
   "source": [
    "Supervised"
   ]
  },
  {
   "cell_type": "code",
   "execution_count": 26,
   "id": "4c23f6bd-81e8-4046-b2aa-79b1162b61d5",
   "metadata": {},
   "outputs": [],
   "source": [
    "Supervised.to_csv(\"Cleaned_data.csv\")"
   ]
  },
  {
   "cell_type": "markdown",
   "id": "14a12b02-fa98-4ee8-86b3-d5cf811ae79c",
   "metadata": {
    "jp-MarkdownHeadingCollapsed": true
   },
   "source": [
    "## Q1) Which products appear most frequently?"
   ]
  },
  {
   "cell_type": "code",
   "execution_count": 7,
   "id": "6e39d3dc-4bd9-4164-9bf6-4e0a998cc00b",
   "metadata": {},
   "outputs": [
    {
     "data": {
      "text/plain": [
       "Description\n",
       "WHITE HANGING HEART T-LIGHT HOLDER    2369\n",
       "REGENCY CAKESTAND 3 TIER              2200\n",
       "JUMBO BAG RED RETROSPOT               2159\n",
       "PARTY BUNTING                         1727\n",
       "LUNCH BAG RED RETROSPOT               1638\n",
       "ASSORTED COLOUR BIRD ORNAMENT         1501\n",
       "SET OF 3 CAKE TINS PANTRY DESIGN      1473\n",
       "PACK OF 72 RETROSPOT CAKE CASES       1385\n",
       "LUNCH BAG  BLACK SKULL.               1350\n",
       "NATURAL SLATE HEART CHALKBOARD        1280\n",
       "Name: count, dtype: int64"
      ]
     },
     "execution_count": 7,
     "metadata": {},
     "output_type": "execute_result"
    }
   ],
   "source": [
    "Supervised[\"Description\"].value_counts().head(10)"
   ]
  },
  {
   "cell_type": "code",
   "execution_count": 8,
   "id": "faafc296-8e26-439f-9444-f12653a9092e",
   "metadata": {},
   "outputs": [
    {
     "data": {
      "image/png": "[encoded data removed]",
      "text/plain": [
       "<Figure size 640x480 with 1 Axes>"
      ]
     },
     "metadata": {},
     "output_type": "display_data"
    }
   ],
   "source": [
    "Supervised[\"Description\"].value_counts().head(10).plot(kind='bar', color = \"purple\")\n",
    "plt.title(\"Top 10 Descriptions\")\n",
    "plt.ylabel(\"Count\")\n",
    "plt.show()"
   ]
  },
  {
   "cell_type": "markdown",
   "id": "d1072491-b62f-4277-a323-b8876319fa4e",
   "metadata": {},
   "source": [
    "### Explanation"
   ]
  },
  {
   "cell_type": "markdown",
   "id": "2f70d97d-9659-40e8-971a-c5950099cd14",
   "metadata": {},
   "source": [
    "- The **“WHITE HANGING HEART T-LIGHT HOLDER”** is the best-selling product, appearing over 2,300 times.\n",
    "\n",
    "- Other top products include “REGENCY CAKESTAND 3 TIER”, “JUMBO BAG RED RETROSPOT”, and “PARTY BUNTING”.\n",
    "\n",
    "- These products dominate sales compared to others, indicating they are the most popular items in customer purchases.\n",
    "\n",
    "*In short*: This chart highlights the **most frequently ordered products** and helps identify which items drive the **majority of sales**."
   ]
  },
  {
   "cell_type": "markdown",
   "id": "1a4049a8-fb54-48ba-b4a5-8e816bb67318",
   "metadata": {},
   "source": [
    "**=================================================================================================**"
   ]
  },
  {
   "cell_type": "markdown",
   "id": "a752ea03-73b9-4131-81fd-5c1c276037a6",
   "metadata": {},
   "source": [
    "## Q2) What’s the most profitable product?"
   ]
  },
  {
   "cell_type": "code",
   "execution_count": 9,
   "id": "d21433c5-fd1d-4266-a4a2-de3e7508d3a2",
   "metadata": {},
   "outputs": [
    {
     "name": "stdout",
     "output_type": "stream",
     "text": [
      "The most profitable product is:  DOTCOM POSTAGE\n",
      "Total Profit:  206245.48\n"
     ]
    }
   ],
   "source": [
    "# Group by product and sum up total revenue\n",
    "profit_per_product = Supervised.groupby(\"Description\")[\"Total_Price\"].sum().reset_index()\n",
    "\n",
    "# Find the product with maximum revenue\n",
    "most_profitable = profit_per_product.loc[profit_per_product[\"Total_Price\"].idxmax()]\n",
    "\n",
    "print(\"The most profitable product is: \", most_profitable[\"Description\"])\n",
    "print(\"Total Profit: \", most_profitable[\"Total_Price\"])\n"
   ]
  },
  {
   "cell_type": "markdown",
   "id": "3242dffb-6c5c-44e6-a626-87f29e166ff3",
   "metadata": {},
   "source": [
    "### Explanation\n",
    "\n",
    "We calculated the total revenue (profit) for each product by summing up the Total_Price across all transactions. The product **“DOTCOM POSTAGE”** generated the **highest revenue**, with a total profit of **206,245.48**. This indicates that although it may not be the most frequently sold item, it contributed the most in terms of overall sales value."
   ]
  },
  {
   "cell_type": "markdown",
   "id": "1e357ca2-d02f-41b9-863a-d6c62202f147",
   "metadata": {},
   "source": [
    "**=================================================================================================**"
   ]
  },
  {
   "cell_type": "markdown",
   "id": "42c68156-9dd4-4b76-af11-a66cf32522a6",
   "metadata": {},
   "source": [
    "## Q3) How many transactions fall under Best_Selling = 1 vs Best_Selling = 0 (target class balance)?"
   ]
  },
  {
   "cell_type": "code",
   "execution_count": 10,
   "id": "69bae073-700a-4bdf-ac47-11eec63d1a91",
   "metadata": {},
   "outputs": [
    {
     "data": {
      "text/plain": [
       "Best_Selling\n",
       "1    271036\n",
       "0    270873\n",
       "Name: count, dtype: int64"
      ]
     },
     "execution_count": 10,
     "metadata": {},
     "output_type": "execute_result"
    }
   ],
   "source": [
    "Supervised[\"Best_Selling\"].value_counts()"
   ]
  },
  {
   "cell_type": "markdown",
   "id": "d0d3f6a0-d358-41ce-8cd0-341eadc64437",
   "metadata": {},
   "source": [
    "### Explanation"
   ]
  },
  {
   "cell_type": "markdown",
   "id": "ec015e91-d20f-4bd4-8306-d6573ece7f49",
   "metadata": {},
   "source": [
    "The dataset contains **271,036 Best-Selling transactions (1)** and **270,873 Non-Best-Selling transactions (0)**. This shows that the classes are **well balanced**, meaning there is **no significant class imbalance issue**. This balance is important for building **reliable machine learning models**, as it prevents bias towards one class."
   ]
  },
  {
   "cell_type": "markdown",
   "id": "8cc919bf-1c01-44c3-ba1c-de91c5de05b5",
   "metadata": {},
   "source": [
    "**=================================================================================================**"
   ]
  },
  {
   "cell_type": "markdown",
   "id": "71d932a4-922c-478c-8dfc-5c45cb8f7f31",
   "metadata": {},
   "source": [
    "## Q4) What is the distribution of Quantity sold per product (are there products sold in bulk vs individually)?"
   ]
  },
  {
   "cell_type": "code",
   "execution_count": 11,
   "id": "3fae8c75-b4c3-4b3c-b0fa-d59a921c87d9",
   "metadata": {},
   "outputs": [
    {
     "data": {
      "image/png": "[encoded data removed]",
      "text/plain": [
       "<Figure size 800x500 with 1 Axes>"
      ]
     },
     "metadata": {},
     "output_type": "display_data"
    },
    {
     "data": {
      "image/png": "[encoded data removed]",
      "text/plain": [
       "<Figure size 800x500 with 1 Axes>"
      ]
     },
     "metadata": {},
     "output_type": "display_data"
    },
    {
     "name": "stdout",
     "output_type": "stream",
     "text": [
      "Quantity\n",
      "1     148227\n",
      "2      81829\n",
      "12     61063\n",
      "6      40868\n",
      "4      38484\n",
      "3      37121\n",
      "24     24021\n",
      "10     22288\n",
      "8      13129\n",
      "5      11757\n",
      "Name: count, dtype: int64\n"
     ]
    }
   ],
   "source": [
    "# Distribution of Quantity sold\n",
    "plt.figure(figsize=(8,5))\n",
    "sns.histplot(Supervised[\"Quantity\"], bins=30, kde=True)\n",
    "plt.title(\"Distribution of Quantity Sold per Product\")\n",
    "plt.xlabel(\"Quantity\")\n",
    "plt.ylabel(\"Frequency\")\n",
    "plt.show()\n",
    "\n",
    "# Boxplot to check for bulk vs individual sales\n",
    "plt.figure(figsize=(8,5))\n",
    "sns.boxplot(x=Supervised[\"Quantity\"])\n",
    "plt.title(\"Boxplot of Quantity Sold per Product\")\n",
    "plt.xlabel(\"Quantity\")\n",
    "plt.show()\n",
    "\n",
    "# Quick check of unique value counts (to see how many 1's vs large quantities)\n",
    "print(Supervised[\"Quantity\"].value_counts().head(10))\n"
   ]
  },
  {
   "cell_type": "markdown",
   "id": "aca62c2b-a120-46d4-962d-68f811aed56c",
   "metadata": {},
   "source": [
    "### Explanation\n",
    "\n",
    "Most products are sold individually or in very small quantities, but a significant portion is sold in bulk packs (e.g., 12, 24). The presence of large negative values suggests returns or cancellations in the dataset."
   ]
  },
  {
   "cell_type": "markdown",
   "id": "0815390a-ddc5-4e7c-a52e-90af8739297d",
   "metadata": {},
   "source": [
    "**=================================================================================================**"
   ]
  },
  {
   "cell_type": "markdown",
   "id": "7ec33aee-9123-42a5-a794-75cbefcf23f5",
   "metadata": {},
   "source": [
    "## Q5) Which countries place the highest number of orders?"
   ]
  },
  {
   "cell_type": "code",
   "execution_count": 12,
   "id": "e7298475-66b4-4215-a95c-e0c3475ab195",
   "metadata": {},
   "outputs": [
    {
     "name": "stdout",
     "output_type": "stream",
     "text": [
      "Country\n",
      "United Kingdom    23494\n",
      "Germany             603\n",
      "France              461\n",
      "EIRE                360\n",
      "Belgium             119\n",
      "Spain               105\n",
      "Netherlands         101\n",
      "Switzerland          74\n",
      "Portugal             71\n",
      "Australia            69\n",
      "Name: InvoiceNo, dtype: int64\n"
     ]
    },
    {
     "data": {
      "image/png": "[encoded data removed]",
      "text/plain": [
       "<Figure size 1000x600 with 1 Axes>"
      ]
     },
     "metadata": {},
     "output_type": "display_data"
    }
   ],
   "source": [
    "# Count number of orders per country\n",
    "country_orders = Supervised.groupby(\"Country\")[\"InvoiceNo\"].nunique().sort_values(ascending=False)\n",
    "\n",
    "# Display top 10 countries by number of orders\n",
    "print(country_orders.head(10))\n",
    "\n",
    "# Optional: Plot\n",
    "import matplotlib.pyplot as plt\n",
    "\n",
    "plt.figure(figsize=(10,6))\n",
    "country_orders.head(10).plot(kind=\"bar\", color=\"orange\", edgecolor=\"black\")\n",
    "plt.title(\"Top 10 Countries by Number of Orders\")\n",
    "plt.xlabel(\"Country\")\n",
    "plt.ylabel(\"Number of Orders\")\n",
    "plt.xticks(rotation=45)\n",
    "plt.show()\n"
   ]
  },
  {
   "cell_type": "markdown",
   "id": "8aea174e-1b87-463f-a950-0efedb2fd357",
   "metadata": {},
   "source": [
    "### Explanation\n",
    "\n",
    "From the analysis, the **United Kingdom** places the highest number of orders, far exceeding all other countries. This is expected as the dataset is UK-based, meaning the majority of transactions originate there. Other countries like Germany, France, and EIRE follow but their contribution is relatively small"
   ]
  },
  {
   "cell_type": "markdown",
   "id": "3e244a7b-1e02-4338-8a69-4a389fdcfeee",
   "metadata": {},
   "source": [
    "**=================================================================================================**"
   ]
  },
  {
   "cell_type": "markdown",
   "id": "3eb900e1-17ff-46e4-b58f-b262b85f5d85",
   "metadata": {},
   "source": [
    "## Q6) How does Quantity sold vary between Best_Selling and Not Best_Selling products?"
   ]
  },
  {
   "cell_type": "code",
   "execution_count": 13,
   "id": "bb77c4d0-fa16-4cba-82f1-84a9cb2c2a61",
   "metadata": {},
   "outputs": [
    {
     "data": {
      "text/plain": [
       "TtestResult(statistic=21.861390233031752, pvalue=6.973165968149142e-106, df=406827.0)"
      ]
     },
     "execution_count": 13,
     "metadata": {},
     "output_type": "execute_result"
    }
   ],
   "source": [
    "from scipy.stats import ttest_ind\n",
    "Supervised = Supervised.dropna()\n",
    "Best_Selling = Supervised[Supervised[\"Best_Selling\"] == 1][\"Quantity\"]\n",
    "Not_Best_Selling = Supervised[Supervised[\"Best_Selling\"] == 0][\"Quantity\"]\n",
    "\n",
    "ttest_ind(Best_Selling, Not_Best_Selling)"
   ]
  },
  {
   "cell_type": "markdown",
   "id": "644e003f-630a-4644-a7b2-12ea2cd73c5c",
   "metadata": {},
   "source": [
    "### Explanation\n",
    "\n",
    "The t-test comparing quantities sold between Best_Selling and Not Best_Selling products shows a statistically significant difference (t ≈ 21.86, p < 0.001). This indicates that **Best_Selling products tend to be sold in significantly higher quantities** compared to non-best-sellers."
   ]
  },
  {
   "cell_type": "markdown",
   "id": "9968b20a-4247-4a86-b847-0dafde0bd500",
   "metadata": {},
   "source": [
    "**=================================================================================================**"
   ]
  },
  {
   "cell_type": "markdown",
   "id": "1983d042-3687-4ce0-aded-e421e35d14bf",
   "metadata": {},
   "source": [
    "## Q7) What is the relationship between Unit Price and Best_Selling (are low-priced items more likely to be best-sellers)?"
   ]
  },
  {
   "cell_type": "code",
   "execution_count": 14,
   "id": "df8b10f5-650e-42f9-a8c3-7d0a0cf9f282",
   "metadata": {},
   "outputs": [
    {
     "data": {
      "text/plain": [
       "0.007636887349760117"
      ]
     },
     "execution_count": 14,
     "metadata": {},
     "output_type": "execute_result"
    }
   ],
   "source": [
    "Supervised[\"UnitPrice\"].corr(Supervised[\"Best_Selling\"])"
   ]
  },
  {
   "cell_type": "markdown",
   "id": "8a51debe-cd75-4482-ab0d-35c5f0fb2976",
   "metadata": {},
   "source": [
    "### Explanation\n",
    "\n",
    "The correlation between Unit Price and Best_Selling is 0.0076, which is extremely close to zero. This indicates that there is **no significant linear relationship** between the price of an item and its likelihood of becoming a best-seller.\n",
    "\n",
    "In other words, being a best-selling product does not depend on whether the item is priced lower or higher. Factors such as customer demand, product quality, brand popularity, and seasonal trends are likely playing a more important role in driving sales than the price alone."
   ]
  },
  {
   "cell_type": "markdown",
   "id": "5b8fa2cb-1bd0-493d-8a52-91d638732d68",
   "metadata": {},
   "source": [
    "**=================================================================================================**"
   ]
  },
  {
   "cell_type": "markdown",
   "id": "8a71fe54-cfa9-49f7-9345-5eab1bcb753d",
   "metadata": {},
   "source": [
    "## Q8) Which Product have the highest Total Price contribution to Best_Selling vs Not Best_Selling?"
   ]
  },
  {
   "cell_type": "code",
   "execution_count": 15,
   "id": "6a51653c-0b3c-43f4-b315-731a31dd2ce3",
   "metadata": {},
   "outputs": [
    {
     "name": "stdout",
     "output_type": "stream",
     "text": [
      "      Best_Selling                  Description  Total_Price\n",
      "2508             0  RED RETROSPOT CHARLOTTE BAG      3655.34\n",
      "5690             1  PAPER CRAFT , LITTLE BIRDIE    168469.60\n"
     ]
    }
   ],
   "source": [
    "# Group by Best_Selling and Product, then sum TotalPrice\n",
    "contribution = Supervised.groupby([\"Best_Selling\", \"Description\"])[\"Total_Price\"].sum().reset_index()\n",
    "\n",
    "# For each Best_Selling group, find the product with the highest contribution\n",
    "highest_contributors = contribution.loc[contribution.groupby(\"Best_Selling\")[\"Total_Price\"].idxmax()]\n",
    "\n",
    "print(highest_contributors)\n"
   ]
  },
  {
   "cell_type": "markdown",
   "id": "1822dc95-1e12-4fc6-8efb-3258c86d51e3",
   "metadata": {},
   "source": [
    "### Explanation\n",
    "\n",
    "The findings clearly highlight that while each category has a leading product, the magnitude of contribution differs considerably. The top contributor from the **Best-Selling group** accounts for a **far greater share of revenue** compared to the leading product from the Not Best-Selling group. This underscores the strong commercial significance of **“PAPER CRAFT, LITTLE BIRDIE”** and emphasizes its role as a key driver of sales performance within the dataset."
   ]
  },
  {
   "cell_type": "markdown",
   "id": "cf49dc37-a712-48ea-badc-557af99ad59e",
   "metadata": {},
   "source": [
    "**=================================================================================================**"
   ]
  },
  {
   "cell_type": "markdown",
   "id": "bbc772ee-b438-4091-b4dd-2149d118b79a",
   "metadata": {},
   "source": [
    "## Q9) How does Total Price differ between the two classes (Best_Selling vs Not)?"
   ]
  },
  {
   "cell_type": "code",
   "execution_count": 18,
   "id": "2a6ec944-97e2-4209-a88b-9942fff04beb",
   "metadata": {},
   "outputs": [
    {
     "data": {
      "text/plain": [
       "TtestResult(statistic=25.84142896830871, pvalue=3.997102265338079e-147, df=406827.0)"
      ]
     },
     "execution_count": 18,
     "metadata": {},
     "output_type": "execute_result"
    }
   ],
   "source": [
    "best_selling = Supervised[Supervised['Best_Selling'] == 1]['Total_Price']\n",
    "not_best_selling = Supervised[Supervised['Best_Selling'] == 0]['Total_Price']\n",
    "\n",
    "ttest_ind(best_selling, not_best_selling)"
   ]
  },
  {
   "cell_type": "markdown",
   "id": "91752174-741c-4a47-ae6b-eeb817960fd2",
   "metadata": {},
   "source": [
    "### Explanation\n",
    "\n",
    "- This result indicates that the difference in Total Price contribution between Best_Selling and Not Best_Selling products is **statistically significant**.\n",
    "\n",
    "- We conclude that Best_Selling products generate significantly more revenue.\n",
    "\n",
    "- In other words, products that are classified as Best_Selling not only sell in higher quantities but also contribute much larger total sales revenue compared to non-best-selling items."
   ]
  },
  {
   "cell_type": "markdown",
   "id": "e06054da-3d7e-4ac5-85a2-583bae2b8093",
   "metadata": {},
   "source": [
    "**=================================================================================================**"
   ]
  },
  {
   "cell_type": "markdown",
   "id": "a17d98c1-f36b-4e2c-b4b6-d39e3adb80f6",
   "metadata": {},
   "source": [
    "## Q10) Is there a correlation between Quantity and Total Price across all products, and how does this differ for Best_Selling vs Not?"
   ]
  },
  {
   "cell_type": "code",
   "execution_count": 24,
   "id": "77d0b961-abdf-4b5d-8258-f6764292ac7a",
   "metadata": {},
   "outputs": [
    {
     "data": {
      "text/html": [
       "<div>\n",
       "<style scoped>\n",
       "    .dataframe tbody tr th:only-of-type {\n",
       "        vertical-align: middle;\n",
       "    }\n",
       "\n",
       "    .dataframe tbody tr th {\n",
       "        vertical-align: top;\n",
       "    }\n",
       "\n",
       "    .dataframe thead th {\n",
       "        text-align: right;\n",
       "    }\n",
       "</style>\n",
       "<table border=\"1\" class=\"dataframe\">\n",
       "  <thead>\n",
       "    <tr style=\"text-align: right;\">\n",
       "      <th></th>\n",
       "      <th>Quantity</th>\n",
       "      <th>Total_Price</th>\n",
       "    </tr>\n",
       "  </thead>\n",
       "  <tbody>\n",
       "    <tr>\n",
       "      <th>Quantity</th>\n",
       "      <td>1.000000</td>\n",
       "      <td>0.916096</td>\n",
       "    </tr>\n",
       "    <tr>\n",
       "      <th>Total_Price</th>\n",
       "      <td>0.916096</td>\n",
       "      <td>1.000000</td>\n",
       "    </tr>\n",
       "  </tbody>\n",
       "</table>\n",
       "</div>"
      ],
      "text/plain": [
       "             Quantity  Total_Price\n",
       "Quantity     1.000000     0.916096\n",
       "Total_Price  0.916096     1.000000"
      ]
     },
     "execution_count": 24,
     "metadata": {},
     "output_type": "execute_result"
    }
   ],
   "source": [
    "Supervised[['Quantity', 'Total_Price']].corr()"
   ]
  },
  {
   "cell_type": "code",
   "execution_count": 25,
   "id": "4a5677d3-ad16-40a8-944c-d03c583241c9",
   "metadata": {},
   "outputs": [
    {
     "data": {
      "text/plain": [
       "Best_Selling\n",
       "0    0.917648\n",
       "1    0.914412\n",
       "Name: (Quantity, Total_Price), dtype: float64"
      ]
     },
     "execution_count": 25,
     "metadata": {},
     "output_type": "execute_result"
    }
   ],
   "source": [
    "Supervised.groupby('Best_Selling')[['Quantity', 'Total_Price']].corr().unstack().iloc[:,1]"
   ]
  },
  {
   "cell_type": "markdown",
   "id": "b18f4239-8205-4494-bfb0-287efcbf59c9",
   "metadata": {},
   "source": [
    "### Explanation\n",
    "\n",
    "There is a **strong positive correlation** (≈0.92) between **Quantity and Total_Price** across all products. When comparing classes, both Best-Selling (0.914) and Not Best-Selling (0.918) products show nearly **identical correlation levels**. This indicates that **quantity consistently drives total sales** regardless of whether a product is a best-seller or not."
   ]
  },
  {
   "cell_type": "markdown",
   "id": "840e7fd2-c421-4861-a01e-de6a5f24aa30",
   "metadata": {},
   "source": [
    "**=================================================================================================**"
   ]
  },
  {
   "cell_type": "code",
   "execution_count": null,
   "id": "ee1b564b-71fa-4f82-98ab-1033b2edae05",
   "metadata": {},
   "outputs": [],
   "source": []
  }
 ],
 "metadata": {
  "kernelspec": {
   "display_name": "Python 3 (ipykernel)",
   "language": "python",
   "name": "python3"
  },
  "language_info": {
   "codemirror_mode": {
    "name": "ipython",
    "version": 3
   },
   "file_extension": ".py",
   "mimetype": "text/x-python",
   "name": "python",
   "nbconvert_exporter": "python",
   "pygments_lexer": "ipython3",
   "version": "3.12.7"
  }
 },
 "nbformat": 4,
 "nbformat_minor": 5
}
